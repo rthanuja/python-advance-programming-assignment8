{
 "cells": [
  {
   "cell_type": "code",
   "execution_count": 1,
   "id": "0b3e30e4",
   "metadata": {},
   "outputs": [],
   "source": [
    "'''1. Given a sentence as txt, return True if any two adjacent words have this property: One word ends with a vowel, while\n",
    "the word immediately after begins with a vowel (a e i o u).'''\n",
    "def vowel_links(s):\n",
    "    l=s.split()\n",
    "    v=\"aeiouAEIOU\"\n",
    "    for i in range(len(l)-1) :\n",
    "        if l[i][-1] in v:\n",
    "            if l[i+1][0] in v:\n",
    "                return True\n",
    "    return False\n"
   ]
  },
  {
   "cell_type": "code",
   "execution_count": 2,
   "id": "5bc80afd",
   "metadata": {},
   "outputs": [
    {
     "data": {
      "text/plain": [
       "True"
      ]
     },
     "execution_count": 2,
     "metadata": {},
     "output_type": "execute_result"
    }
   ],
   "source": [
    "vowel_links(\"a very large appliance\")"
   ]
  },
  {
   "cell_type": "code",
   "execution_count": 3,
   "id": "51a23da8",
   "metadata": {},
   "outputs": [
    {
     "data": {
      "text/plain": [
       "True"
      ]
     },
     "execution_count": 3,
     "metadata": {},
     "output_type": "execute_result"
    }
   ],
   "source": [
    "vowel_links(\"go to edabit\")"
   ]
  },
  {
   "cell_type": "code",
   "execution_count": 4,
   "id": "1740389b",
   "metadata": {},
   "outputs": [
    {
     "data": {
      "text/plain": [
       "False"
      ]
     },
     "execution_count": 4,
     "metadata": {},
     "output_type": "execute_result"
    }
   ],
   "source": [
    "vowel_links(\"an open fire\")"
   ]
  },
  {
   "cell_type": "code",
   "execution_count": 5,
   "id": "06eaec5a",
   "metadata": {},
   "outputs": [
    {
     "data": {
      "text/plain": [
       "False"
      ]
     },
     "execution_count": 5,
     "metadata": {},
     "output_type": "execute_result"
    }
   ],
   "source": [
    "vowel_links(\"a sudden applause\") "
   ]
  },
  {
   "cell_type": "code",
   "execution_count": 6,
   "id": "b3fe089f",
   "metadata": {},
   "outputs": [],
   "source": [
    "'''2. You are given three inputs: a string, one letter, and a second letter.Write a function that returns True if every \n",
    "instance of the first letter occurs before every instance of the second letter.'''\n",
    "def first_before_second(t,f,s):\n",
    "    l=list(t)\n",
    "    a=l.index(s)\n",
    "    if f in l[a:]:\n",
    "        return False\n",
    "    return True\n",
    "    "
   ]
  },
  {
   "cell_type": "code",
   "execution_count": 7,
   "id": "fc190ae2",
   "metadata": {},
   "outputs": [
    {
     "data": {
      "text/plain": [
       "True"
      ]
     },
     "execution_count": 7,
     "metadata": {},
     "output_type": "execute_result"
    }
   ],
   "source": [
    "first_before_second(\"a rabbit jumps joyfully\", \"a\",\"j\")"
   ]
  },
  {
   "cell_type": "code",
   "execution_count": 8,
   "id": "36848f4e",
   "metadata": {},
   "outputs": [
    {
     "data": {
      "text/plain": [
       "True"
      ]
     },
     "execution_count": 8,
     "metadata": {},
     "output_type": "execute_result"
    }
   ],
   "source": [
    "first_before_second(\"knaves knew about waterfalls\", \"k\",\"w\")"
   ]
  },
  {
   "cell_type": "code",
   "execution_count": 9,
   "id": "fae3e437",
   "metadata": {},
   "outputs": [
    {
     "data": {
      "text/plain": [
       "False"
      ]
     },
     "execution_count": 9,
     "metadata": {},
     "output_type": "execute_result"
    }
   ],
   "source": [
    "first_before_second(\"happy birthday\", \"a\",\"y\")"
   ]
  },
  {
   "cell_type": "code",
   "execution_count": 10,
   "id": "f0619974",
   "metadata": {},
   "outputs": [
    {
     "data": {
      "text/plain": [
       "False"
      ]
     },
     "execution_count": 10,
     "metadata": {},
     "output_type": "execute_result"
    }
   ],
   "source": [
    "first_before_second(\"precarious kangaroos\", \"k\",\"a\")"
   ]
  },
  {
   "cell_type": "code",
   "execution_count": 11,
   "id": "a81a30f9",
   "metadata": {},
   "outputs": [],
   "source": [
    "'''3.Create a function that returns the characters from a list or string r on odd or even positions,depending on the specifier s.\n",
    "The specifier will be \"odd\" for items on odd positions (1, 3, 5, ...) and \"even\" for items on even positions (2,4, 6, ...).'''\n",
    "def char_at_pos(l,s):\n",
    "    if type(l)==list:\n",
    "        r=[]\n",
    "    else:\n",
    "        r=\"\"\n",
    "    for i in range(len(l)):\n",
    "        if s==\"odd\":\n",
    "            if i%2==0:\n",
    "                if type(l)==list:\n",
    "                    r.append(l[i])\n",
    "                else:\n",
    "                    r+=l[i]\n",
    "        elif s==\"even\":\n",
    "             if i%2!=0:\n",
    "                    if type(l)==list:\n",
    "                        r.append(l[i])\n",
    "                    else:\n",
    "                        r+=l[i]\n",
    "            \n",
    "    return r\n",
    "            "
   ]
  },
  {
   "cell_type": "code",
   "execution_count": 12,
   "id": "15c5a9d6",
   "metadata": {},
   "outputs": [
    {
     "data": {
      "text/plain": [
       "[4, 8]"
      ]
     },
     "execution_count": 12,
     "metadata": {},
     "output_type": "execute_result"
    }
   ],
   "source": [
    "char_at_pos([2, 4, 6, 8, 10], \"even\")"
   ]
  },
  {
   "cell_type": "code",
   "execution_count": 13,
   "id": "b828236f",
   "metadata": {},
   "outputs": [
    {
     "data": {
      "text/plain": [
       "'EAI'"
      ]
     },
     "execution_count": 13,
     "metadata": {},
     "output_type": "execute_result"
    }
   ],
   "source": [
    "char_at_pos(\"EDABIT\", \"odd\")"
   ]
  },
  {
   "cell_type": "code",
   "execution_count": 14,
   "id": "9f00c05b",
   "metadata": {},
   "outputs": [
    {
     "data": {
      "text/plain": [
       "['A', 'B', 'T', 'A', 'I', 'Y']"
      ]
     },
     "execution_count": 14,
     "metadata": {},
     "output_type": "execute_result"
    }
   ],
   "source": [
    "char_at_pos([\"A\",\"R\",\"B\",\"I\",\"T\",\"R\",\"A\",\"R\",\"I\",\"L\",\"Y\"],\"odd\")"
   ]
  },
  {
   "cell_type": "code",
   "execution_count": 15,
   "id": "49315c51",
   "metadata": {},
   "outputs": [],
   "source": [
    "'''4. Write a function that returns the greatest common divisor of all list elements. If the greatest common divisor is 1,\n",
    "return 1.'''\n",
    "def gcd(l):\n",
    "    m=min(l)\n",
    "    g=0\n",
    "    for i in range(1,m+1):\n",
    "        c=0\n",
    "        for j in l:\n",
    "            if j%i==0:\n",
    "                c+=1\n",
    "            else:\n",
    "                break\n",
    "        if c==len(l):\n",
    "            g=max(g,i)\n",
    "    return g"
   ]
  },
  {
   "cell_type": "code",
   "execution_count": 16,
   "id": "7f7a64e9",
   "metadata": {},
   "outputs": [
    {
     "data": {
      "text/plain": [
       "10"
      ]
     },
     "execution_count": 16,
     "metadata": {},
     "output_type": "execute_result"
    }
   ],
   "source": [
    "gcd([10,20,40])"
   ]
  },
  {
   "cell_type": "code",
   "execution_count": 17,
   "id": "f26f2223",
   "metadata": {},
   "outputs": [
    {
     "data": {
      "text/plain": [
       "1"
      ]
     },
     "execution_count": 17,
     "metadata": {},
     "output_type": "execute_result"
    }
   ],
   "source": [
    "gcd([1,2,3,100])"
   ]
  },
  {
   "cell_type": "code",
   "execution_count": 18,
   "id": "1d6c7abe",
   "metadata": {},
   "outputs": [
    {
     "data": {
      "text/plain": [
       "64"
      ]
     },
     "execution_count": 18,
     "metadata": {},
     "output_type": "execute_result"
    }
   ],
   "source": [
    "gcd([1024,192,2048,512])"
   ]
  },
  {
   "cell_type": "code",
   "execution_count": 19,
   "id": "b68608ed",
   "metadata": {},
   "outputs": [],
   "source": [
    "'''5. A number/string is a palindrome if the digits/characters are the same when read both forward and backward. \n",
    "Examples include \"racecar\" and 12321. Given a positive number n, check if n or the binary representation of n is palindromic.\n",
    "Return the following:\n",
    "- \"Decimal only.\" if only n is a palindrome.\n",
    "- \"Binary only.\" if only the binary representation of n is a palindrome.\n",
    "- \"Decimal and binary.\" if both are palindromes.\n",
    "- \"Neither!\" if neither are palindromes.'''\n",
    "def palindrome_type(n):\n",
    "    d,r=0,0\n",
    "    b=str(bin(n)[2:])\n",
    "    n=str(n)\n",
    "    if n==n[::-1]:\n",
    "        d+=1\n",
    "    if b==b[::-1]:\n",
    "        r+=1\n",
    "    if d==1 and r==1:\n",
    "        return  \"Decimal and binary.\"\n",
    "    elif d==0 and r==0:\n",
    "        return \"Neither!\"\n",
    "    elif d==1 and r==0:\n",
    "        return \"Decimal only.\"\n",
    "    else:\n",
    "        return \"Binary only.\"\n"
   ]
  },
  {
   "cell_type": "code",
   "execution_count": 20,
   "id": "9ec44ff1",
   "metadata": {},
   "outputs": [
    {
     "data": {
      "text/plain": [
       "'Decimal only.'"
      ]
     },
     "execution_count": 20,
     "metadata": {},
     "output_type": "execute_result"
    }
   ],
   "source": [
    " palindrome_type(1306031)"
   ]
  },
  {
   "cell_type": "code",
   "execution_count": 21,
   "id": "c24ec188",
   "metadata": {},
   "outputs": [
    {
     "data": {
      "text/plain": [
       "'Binary only.'"
      ]
     },
     "execution_count": 21,
     "metadata": {},
     "output_type": "execute_result"
    }
   ],
   "source": [
    "palindrome_type(427787)"
   ]
  },
  {
   "cell_type": "code",
   "execution_count": 22,
   "id": "c56085d7",
   "metadata": {},
   "outputs": [
    {
     "data": {
      "text/plain": [
       "'Decimal and binary.'"
      ]
     },
     "execution_count": 22,
     "metadata": {},
     "output_type": "execute_result"
    }
   ],
   "source": [
    "palindrome_type(313)"
   ]
  },
  {
   "cell_type": "code",
   "execution_count": 23,
   "id": "a8bdddc2",
   "metadata": {},
   "outputs": [
    {
     "data": {
      "text/plain": [
       "'Neither!'"
      ]
     },
     "execution_count": 23,
     "metadata": {},
     "output_type": "execute_result"
    }
   ],
   "source": [
    "palindrome_type(934)"
   ]
  }
 ],
 "metadata": {
  "kernelspec": {
   "display_name": "Python 3 (ipykernel)",
   "language": "python",
   "name": "python3"
  },
  "language_info": {
   "codemirror_mode": {
    "name": "ipython",
    "version": 3
   },
   "file_extension": ".py",
   "mimetype": "text/x-python",
   "name": "python",
   "nbconvert_exporter": "python",
   "pygments_lexer": "ipython3",
   "version": "3.10.9"
  }
 },
 "nbformat": 4,
 "nbformat_minor": 5
}
